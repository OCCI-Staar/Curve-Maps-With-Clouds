{
  "nbformat": 4,
  "nbformat_minor": 0,
  "metadata": {
    "colab": {
      "provenance": [],
      "collapsed_sections": [
        "X4yH3w7qLr20",
        "fWN5RVTw3HFP"
      ],
      "toc_visible": true,
      "authorship_tag": "ABX9TyPUga6q7RMBVYgQWE5uYPXJ",
      "include_colab_link": true
    },
    "kernelspec": {
      "name": "python3",
      "display_name": "Python 3"
    },
    "language_info": {
      "name": "python"
    }
  },
  "cells": [
    {
      "cell_type": "markdown",
      "metadata": {
        "id": "view-in-github",
        "colab_type": "text"
      },
      "source": [
        "<a href=\"https://colab.research.google.com/github/OCCI-Staar/Curve-Maps-With-Clouds/blob/main/Curve_Maps_SHP_Clouds.ipynb\" target=\"_parent\"><img src=\"https://colab.research.google.com/assets/colab-badge.svg\" alt=\"Open In Colab\"/></a>"
      ]
    },
    {
      "cell_type": "markdown",
      "source": [
        "# Note this will **NOT** filter out clouds\n",
        "## Create a standard environment\n",
        "\n",
        "*   Simply Click play button to run all scripts\n",
        "\n",
        "*   If no errors, continue to 1)"
      ],
      "metadata": {
        "id": "p9xQQaAhAWNP"
      }
    },
    {
      "cell_type": "code",
      "execution_count": 2,
      "metadata": {
        "id": "mL7E8JAnUPDF",
        "colab": {
          "base_uri": "https://localhost:8080/"
        },
        "outputId": "96e1b5a8-6150-48db-bf0b-90f23ce73d75"
      },
      "outputs": [
        {
          "output_type": "stream",
          "name": "stdout",
          "text": [
            "--2024-06-20 19:36:34--  https://raw.githubusercontent.com/OCCI-Staar/Curve-Maps-With-Clouds/main/required-info.txt\n",
            "Resolving raw.githubusercontent.com (raw.githubusercontent.com)... 185.199.108.133, 185.199.109.133, 185.199.110.133, ...\n",
            "Connecting to raw.githubusercontent.com (raw.githubusercontent.com)|185.199.108.133|:443... connected.\n",
            "HTTP request sent, awaiting response... 200 OK\n",
            "Length: 129 [text/plain]\n",
            "Saving to: ‘required-info.txt’\n",
            "\n",
            "\rrequired-info.txt     0%[                    ]       0  --.-KB/s               \rrequired-info.txt   100%[===================>]     129  --.-KB/s    in 0s      \n",
            "\n",
            "2024-06-20 19:36:34 (2.12 MB/s) - ‘required-info.txt’ saved [129/129]\n",
            "\n"
          ]
        }
      ],
      "source": [
        "#Just need the required versions from GitHub\n",
        "!wget -O required-info.txt https://raw.githubusercontent.com/OCCI-Staar/Curve-Maps-With-Clouds/main/required-info.txt"
      ]
    },
    {
      "cell_type": "code",
      "source": [
        "# View the content of required-info.txt\n",
        "!cat required-info.txt\n",
        "\n",
        "# Install packages listed in required-info.txt\n",
        "!pip install -r required-info.txt"
      ],
      "metadata": {
        "id": "o71duZrfZM3y",
        "colab": {
          "base_uri": "https://localhost:8080/"
        },
        "outputId": "a6ffc8d1-e0fa-46d4-cba2-edd5d5c15860"
      },
      "execution_count": 3,
      "outputs": [
        {
          "output_type": "stream",
          "name": "stdout",
          "text": [
            "pandas==2.2.2 \r\n",
            "geopandas==0.14.4 \r\n",
            "shapely==2.0.2 \r\n",
            "fiona==1.9.5 \r\n",
            "pyproj==3.6.1 \r\n",
            "geetools==0.6.11 \r\n",
            "earthengine-api==0.1.272\r\n",
            "Collecting pandas==2.2.2 (from -r required-info.txt (line 1))\n",
            "  Downloading pandas-2.2.2-cp310-cp310-manylinux_2_17_x86_64.manylinux2014_x86_64.whl (13.0 MB)\n",
            "\u001b[2K     \u001b[90m━━━━━━━━━━━━━━━━━━━━━━━━━━━━━━━━━━━━━━━━\u001b[0m \u001b[32m13.0/13.0 MB\u001b[0m \u001b[31m49.6 MB/s\u001b[0m eta \u001b[36m0:00:00\u001b[0m\n",
            "\u001b[?25hCollecting geopandas==0.14.4 (from -r required-info.txt (line 2))\n",
            "  Downloading geopandas-0.14.4-py3-none-any.whl (1.1 MB)\n",
            "\u001b[2K     \u001b[90m━━━━━━━━━━━━━━━━━━━━━━━━━━━━━━━━━━━━━━━━\u001b[0m \u001b[32m1.1/1.1 MB\u001b[0m \u001b[31m49.1 MB/s\u001b[0m eta \u001b[36m0:00:00\u001b[0m\n",
            "\u001b[?25hCollecting shapely==2.0.2 (from -r required-info.txt (line 3))\n",
            "  Downloading shapely-2.0.2-cp310-cp310-manylinux_2_17_x86_64.manylinux2014_x86_64.whl (2.5 MB)\n",
            "\u001b[2K     \u001b[90m━━━━━━━━━━━━━━━━━━━━━━━━━━━━━━━━━━━━━━━━\u001b[0m \u001b[32m2.5/2.5 MB\u001b[0m \u001b[31m35.4 MB/s\u001b[0m eta \u001b[36m0:00:00\u001b[0m\n",
            "\u001b[?25hCollecting fiona==1.9.5 (from -r required-info.txt (line 4))\n",
            "  Downloading fiona-1.9.5-cp310-cp310-manylinux2014_x86_64.whl (15.7 MB)\n",
            "\u001b[2K     \u001b[90m━━━━━━━━━━━━━━━━━━━━━━━━━━━━━━━━━━━━━━━━\u001b[0m \u001b[32m15.7/15.7 MB\u001b[0m \u001b[31m71.7 MB/s\u001b[0m eta \u001b[36m0:00:00\u001b[0m\n",
            "\u001b[?25hRequirement already satisfied: pyproj==3.6.1 in /usr/local/lib/python3.10/dist-packages (from -r required-info.txt (line 5)) (3.6.1)\n",
            "Collecting geetools==0.6.11 (from -r required-info.txt (line 6))\n",
            "  Downloading geetools-0.6.11.tar.gz (72 kB)\n",
            "\u001b[2K     \u001b[90m━━━━━━━━━━━━━━━━━━━━━━━━━━━━━━━━━━━━━━━━\u001b[0m \u001b[32m72.6/72.6 kB\u001b[0m \u001b[31m10.3 MB/s\u001b[0m eta \u001b[36m0:00:00\u001b[0m\n",
            "\u001b[?25h  Preparing metadata (setup.py) ... \u001b[?25l\u001b[?25hdone\n",
            "Collecting earthengine-api==0.1.272 (from -r required-info.txt (line 7))\n",
            "  Downloading earthengine-api-0.1.272.tar.gz (229 kB)\n",
            "\u001b[2K     \u001b[90m━━━━━━━━━━━━━━━━━━━━━━━━━━━━━━━━━━━━━━━━\u001b[0m \u001b[32m229.2/229.2 kB\u001b[0m \u001b[31m28.1 MB/s\u001b[0m eta \u001b[36m0:00:00\u001b[0m\n",
            "\u001b[?25h  Preparing metadata (setup.py) ... \u001b[?25l\u001b[?25hdone\n",
            "Requirement already satisfied: numpy>=1.22.4 in /usr/local/lib/python3.10/dist-packages (from pandas==2.2.2->-r required-info.txt (line 1)) (1.25.2)\n",
            "Requirement already satisfied: python-dateutil>=2.8.2 in /usr/local/lib/python3.10/dist-packages (from pandas==2.2.2->-r required-info.txt (line 1)) (2.8.2)\n",
            "Requirement already satisfied: pytz>=2020.1 in /usr/local/lib/python3.10/dist-packages (from pandas==2.2.2->-r required-info.txt (line 1)) (2023.4)\n",
            "Requirement already satisfied: tzdata>=2022.7 in /usr/local/lib/python3.10/dist-packages (from pandas==2.2.2->-r required-info.txt (line 1)) (2024.1)\n",
            "Requirement already satisfied: packaging in /usr/local/lib/python3.10/dist-packages (from geopandas==0.14.4->-r required-info.txt (line 2)) (24.1)\n",
            "Requirement already satisfied: attrs>=19.2.0 in /usr/local/lib/python3.10/dist-packages (from fiona==1.9.5->-r required-info.txt (line 4)) (23.2.0)\n",
            "Requirement already satisfied: certifi in /usr/local/lib/python3.10/dist-packages (from fiona==1.9.5->-r required-info.txt (line 4)) (2024.6.2)\n",
            "Requirement already satisfied: click~=8.0 in /usr/local/lib/python3.10/dist-packages (from fiona==1.9.5->-r required-info.txt (line 4)) (8.1.7)\n",
            "Requirement already satisfied: click-plugins>=1.0 in /usr/local/lib/python3.10/dist-packages (from fiona==1.9.5->-r required-info.txt (line 4)) (1.1.1)\n",
            "Requirement already satisfied: cligj>=0.5 in /usr/local/lib/python3.10/dist-packages (from fiona==1.9.5->-r required-info.txt (line 4)) (0.7.2)\n",
            "Requirement already satisfied: six in /usr/local/lib/python3.10/dist-packages (from fiona==1.9.5->-r required-info.txt (line 4)) (1.16.0)\n",
            "Requirement already satisfied: setuptools in /usr/local/lib/python3.10/dist-packages (from fiona==1.9.5->-r required-info.txt (line 4)) (67.7.2)\n",
            "Requirement already satisfied: requests in /usr/local/lib/python3.10/dist-packages (from geetools==0.6.11->-r required-info.txt (line 6)) (2.31.0)\n",
            "Requirement already satisfied: pyshp in /usr/local/lib/python3.10/dist-packages (from geetools==0.6.11->-r required-info.txt (line 6)) (2.3.1)\n",
            "Requirement already satisfied: future in /usr/local/lib/python3.10/dist-packages (from earthengine-api==0.1.272->-r required-info.txt (line 7)) (0.18.3)\n",
            "Requirement already satisfied: google-cloud-storage in /usr/local/lib/python3.10/dist-packages (from earthengine-api==0.1.272->-r required-info.txt (line 7)) (2.8.0)\n",
            "Collecting google-api-python-client<2,>=1.12.1 (from earthengine-api==0.1.272->-r required-info.txt (line 7))\n",
            "  Downloading google_api_python_client-1.12.11-py2.py3-none-any.whl (62 kB)\n",
            "\u001b[2K     \u001b[90m━━━━━━━━━━━━━━━━━━━━━━━━━━━━━━━━━━━━━━━━\u001b[0m \u001b[32m62.1/62.1 kB\u001b[0m \u001b[31m6.9 MB/s\u001b[0m eta \u001b[36m0:00:00\u001b[0m\n",
            "\u001b[?25hRequirement already satisfied: google-auth>=1.4.1 in /usr/local/lib/python3.10/dist-packages (from earthengine-api==0.1.272->-r required-info.txt (line 7)) (2.27.0)\n",
            "Requirement already satisfied: google-auth-httplib2>=0.0.3 in /usr/local/lib/python3.10/dist-packages (from earthengine-api==0.1.272->-r required-info.txt (line 7)) (0.1.1)\n",
            "Requirement already satisfied: httplib2<1dev,>=0.9.2 in /usr/local/lib/python3.10/dist-packages (from earthengine-api==0.1.272->-r required-info.txt (line 7)) (0.22.0)\n",
            "Collecting httplib2shim (from earthengine-api==0.1.272->-r required-info.txt (line 7))\n",
            "  Downloading httplib2shim-0.0.3.tar.gz (17 kB)\n",
            "  Preparing metadata (setup.py) ... \u001b[?25l\u001b[?25hdone\n",
            "Collecting uritemplate<4dev,>=3.0.0 (from google-api-python-client<2,>=1.12.1->earthengine-api==0.1.272->-r required-info.txt (line 7))\n",
            "  Downloading uritemplate-3.0.1-py2.py3-none-any.whl (15 kB)\n",
            "Requirement already satisfied: google-api-core<3dev,>=1.21.0 in /usr/local/lib/python3.10/dist-packages (from google-api-python-client<2,>=1.12.1->earthengine-api==0.1.272->-r required-info.txt (line 7)) (2.11.1)\n",
            "Requirement already satisfied: cachetools<6.0,>=2.0.0 in /usr/local/lib/python3.10/dist-packages (from google-auth>=1.4.1->earthengine-api==0.1.272->-r required-info.txt (line 7)) (5.3.3)\n",
            "Requirement already satisfied: pyasn1-modules>=0.2.1 in /usr/local/lib/python3.10/dist-packages (from google-auth>=1.4.1->earthengine-api==0.1.272->-r required-info.txt (line 7)) (0.4.0)\n",
            "Requirement already satisfied: rsa<5,>=3.1.4 in /usr/local/lib/python3.10/dist-packages (from google-auth>=1.4.1->earthengine-api==0.1.272->-r required-info.txt (line 7)) (4.9)\n",
            "Requirement already satisfied: pyparsing!=3.0.0,!=3.0.1,!=3.0.2,!=3.0.3,<4,>=2.4.2 in /usr/local/lib/python3.10/dist-packages (from httplib2<1dev,>=0.9.2->earthengine-api==0.1.272->-r required-info.txt (line 7)) (3.1.2)\n",
            "Requirement already satisfied: google-cloud-core<3.0dev,>=2.3.0 in /usr/local/lib/python3.10/dist-packages (from google-cloud-storage->earthengine-api==0.1.272->-r required-info.txt (line 7)) (2.3.3)\n",
            "Requirement already satisfied: google-resumable-media>=2.3.2 in /usr/local/lib/python3.10/dist-packages (from google-cloud-storage->earthengine-api==0.1.272->-r required-info.txt (line 7)) (2.7.1)\n",
            "Requirement already satisfied: charset-normalizer<4,>=2 in /usr/local/lib/python3.10/dist-packages (from requests->geetools==0.6.11->-r required-info.txt (line 6)) (3.3.2)\n",
            "Requirement already satisfied: idna<4,>=2.5 in /usr/local/lib/python3.10/dist-packages (from requests->geetools==0.6.11->-r required-info.txt (line 6)) (3.7)\n",
            "Requirement already satisfied: urllib3<3,>=1.21.1 in /usr/local/lib/python3.10/dist-packages (from requests->geetools==0.6.11->-r required-info.txt (line 6)) (2.0.7)\n",
            "Requirement already satisfied: googleapis-common-protos<2.0.dev0,>=1.56.2 in /usr/local/lib/python3.10/dist-packages (from google-api-core<3dev,>=1.21.0->google-api-python-client<2,>=1.12.1->earthengine-api==0.1.272->-r required-info.txt (line 7)) (1.63.1)\n",
            "Requirement already satisfied: protobuf!=3.20.0,!=3.20.1,!=4.21.0,!=4.21.1,!=4.21.2,!=4.21.3,!=4.21.4,!=4.21.5,<5.0.0.dev0,>=3.19.5 in /usr/local/lib/python3.10/dist-packages (from google-api-core<3dev,>=1.21.0->google-api-python-client<2,>=1.12.1->earthengine-api==0.1.272->-r required-info.txt (line 7)) (3.20.3)\n",
            "Requirement already satisfied: google-crc32c<2.0dev,>=1.0 in /usr/local/lib/python3.10/dist-packages (from google-resumable-media>=2.3.2->google-cloud-storage->earthengine-api==0.1.272->-r required-info.txt (line 7)) (1.5.0)\n",
            "Requirement already satisfied: pyasn1<0.7.0,>=0.4.6 in /usr/local/lib/python3.10/dist-packages (from pyasn1-modules>=0.2.1->google-auth>=1.4.1->earthengine-api==0.1.272->-r required-info.txt (line 7)) (0.6.0)\n",
            "Building wheels for collected packages: geetools, earthengine-api, httplib2shim\n",
            "  Building wheel for geetools (setup.py) ... \u001b[?25l\u001b[?25hdone\n",
            "  Created wheel for geetools: filename=geetools-0.6.11-py3-none-any.whl size=90202 sha256=ef15c23017c30889979d44bf4576f3434679967a07e1a7e54186cf31264c657d\n",
            "  Stored in directory: /root/.cache/pip/wheels/1a/1a/10/53337fe2c2881523cb9e1698af7517c4ea0c817a243e529de2\n",
            "  Building wheel for earthengine-api (setup.py) ... \u001b[?25l\u001b[?25hdone\n",
            "  Created wheel for earthengine-api: filename=earthengine_api-0.1.272-py3-none-any.whl size=257971 sha256=08c9c8b4d16ad03d5cd6af492f9644a5cf997cc0b9a80df9eb8f73cb6ff57ac2\n",
            "  Stored in directory: /root/.cache/pip/wheels/e0/01/05/8ea2d3b86aa9dcf5ca67fdfc1138994ab99a460f702a362954\n",
            "  Building wheel for httplib2shim (setup.py) ... \u001b[?25l\u001b[?25hdone\n",
            "  Created wheel for httplib2shim: filename=httplib2shim-0.0.3-py2.py3-none-any.whl size=18044 sha256=0b7863662b6aa4a7c8f67953146261cbf44cb055ec0de23b66f6d110931d775b\n",
            "  Stored in directory: /root/.cache/pip/wheels/88/e5/dd/0096092515d7a3711c1bbc6c2ea1933a1fe1a62da93a6072a0\n",
            "Successfully built geetools earthengine-api httplib2shim\n",
            "Installing collected packages: uritemplate, shapely, pandas, httplib2shim, fiona, geopandas, geetools, google-api-python-client, earthengine-api\n",
            "  Attempting uninstall: uritemplate\n",
            "    Found existing installation: uritemplate 4.1.1\n",
            "    Uninstalling uritemplate-4.1.1:\n",
            "      Successfully uninstalled uritemplate-4.1.1\n",
            "  Attempting uninstall: shapely\n",
            "    Found existing installation: shapely 2.0.4\n",
            "    Uninstalling shapely-2.0.4:\n",
            "      Successfully uninstalled shapely-2.0.4\n",
            "  Attempting uninstall: pandas\n",
            "    Found existing installation: pandas 2.0.3\n",
            "    Uninstalling pandas-2.0.3:\n",
            "      Successfully uninstalled pandas-2.0.3\n",
            "  Attempting uninstall: fiona\n",
            "    Found existing installation: fiona 1.9.6\n",
            "    Uninstalling fiona-1.9.6:\n",
            "      Successfully uninstalled fiona-1.9.6\n",
            "  Attempting uninstall: geopandas\n",
            "    Found existing installation: geopandas 0.13.2\n",
            "    Uninstalling geopandas-0.13.2:\n",
            "      Successfully uninstalled geopandas-0.13.2\n",
            "  Attempting uninstall: google-api-python-client\n",
            "    Found existing installation: google-api-python-client 2.84.0\n",
            "    Uninstalling google-api-python-client-2.84.0:\n",
            "      Successfully uninstalled google-api-python-client-2.84.0\n",
            "  Attempting uninstall: earthengine-api\n",
            "    Found existing installation: earthengine-api 0.1.407\n",
            "    Uninstalling earthengine-api-0.1.407:\n",
            "      Successfully uninstalled earthengine-api-0.1.407\n",
            "\u001b[31mERROR: pip's dependency resolver does not currently take into account all the packages that are installed. This behaviour is the source of the following dependency conflicts.\n",
            "cudf-cu12 24.4.1 requires pandas<2.2.2dev0,>=2.0, but you have pandas 2.2.2 which is incompatible.\n",
            "geemap 0.32.1 requires earthengine-api>=0.1.347, but you have earthengine-api 0.1.272 which is incompatible.\n",
            "google-colab 1.0.0 requires pandas==2.0.3, but you have pandas 2.2.2 which is incompatible.\u001b[0m\u001b[31m\n",
            "\u001b[0mSuccessfully installed earthengine-api-0.1.272 fiona-1.9.5 geetools-0.6.11 geopandas-0.14.4 google-api-python-client-1.12.11 httplib2shim-0.0.3 pandas-2.2.2 shapely-2.0.2 uritemplate-3.0.1\n"
          ]
        }
      ]
    },
    {
      "cell_type": "code",
      "source": [
        "#Needed Libraries\n",
        "import ee\n",
        "import time\n",
        "import os\n",
        "import json\n",
        "import numpy as np\n",
        "import pandas as pd\n",
        "import geopandas as gpd\n",
        "from osgeo import gdal\n",
        "from datetime import datetime\n",
        "from geetools import batch\n",
        "import ipywidgets as widgets\n",
        "\n",
        "from IPython.display import display\n",
        "%matplotlib inline\n",
        "import matplotlib.pyplot as plt"
      ],
      "metadata": {
        "colab": {
          "base_uri": "https://localhost:8080/",
          "height": 383
        },
        "id": "YT2MBYfVnY_9",
        "outputId": "f43357ff-9aa4-47f9-ffd8-77ff70743649"
      },
      "execution_count": null,
      "outputs": [
        {
          "output_type": "error",
          "ename": "ModuleNotFoundError",
          "evalue": "No module named 'geetools'",
          "traceback": [
            "\u001b[0;31m---------------------------------------------------------------------------\u001b[0m",
            "\u001b[0;31mModuleNotFoundError\u001b[0m                       Traceback (most recent call last)",
            "\u001b[0;32m<ipython-input-1-1825b6e7924c>\u001b[0m in \u001b[0;36m<cell line: 11>\u001b[0;34m()\u001b[0m\n\u001b[1;32m      9\u001b[0m \u001b[0;32mfrom\u001b[0m \u001b[0mosgeo\u001b[0m \u001b[0;32mimport\u001b[0m \u001b[0mgdal\u001b[0m\u001b[0;34m\u001b[0m\u001b[0;34m\u001b[0m\u001b[0m\n\u001b[1;32m     10\u001b[0m \u001b[0;32mfrom\u001b[0m \u001b[0mdatetime\u001b[0m \u001b[0;32mimport\u001b[0m \u001b[0mdatetime\u001b[0m\u001b[0;34m\u001b[0m\u001b[0;34m\u001b[0m\u001b[0m\n\u001b[0;32m---> 11\u001b[0;31m \u001b[0;32mfrom\u001b[0m \u001b[0mgeetools\u001b[0m \u001b[0;32mimport\u001b[0m \u001b[0mbatch\u001b[0m\u001b[0;34m\u001b[0m\u001b[0;34m\u001b[0m\u001b[0m\n\u001b[0m\u001b[1;32m     12\u001b[0m \u001b[0;32mimport\u001b[0m \u001b[0mipywidgets\u001b[0m \u001b[0;32mas\u001b[0m \u001b[0mwidgets\u001b[0m\u001b[0;34m\u001b[0m\u001b[0;34m\u001b[0m\u001b[0m\n\u001b[1;32m     13\u001b[0m \u001b[0;34m\u001b[0m\u001b[0m\n",
            "\u001b[0;31mModuleNotFoundError\u001b[0m: No module named 'geetools'",
            "",
            "\u001b[0;31m---------------------------------------------------------------------------\u001b[0;32m\nNOTE: If your import is failing due to a missing package, you can\nmanually install dependencies using either !pip or !apt.\n\nTo view examples of installing some common dependencies, click the\n\"Open Examples\" button below.\n\u001b[0;31m---------------------------------------------------------------------------\u001b[0m\n"
          ],
          "errorDetails": {
            "actions": [
              {
                "action": "open_url",
                "actionText": "Open Examples",
                "url": "/notebooks/snippets/importing_libraries.ipynb"
              }
            ]
          }
        }
      ]
    },
    {
      "cell_type": "code",
      "source": [
        "#Build Docker\n",
        "!docker build -t maps-docker-image .\n"
      ],
      "metadata": {
        "id": "MuiqDn-ZZM5B"
      },
      "execution_count": null,
      "outputs": []
    },
    {
      "cell_type": "markdown",
      "source": [
        "# 1) Authenticate yourself through Google Earth Engine"
      ],
      "metadata": {
        "id": "X4yH3w7qLr20"
      }
    },
    {
      "cell_type": "code",
      "source": [
        "#Authenticate the GEE User\n",
        "ee.Authenticate()\n",
        "# Verify if GEE server was authenticated\n",
        "try:\n",
        "  ee.Initialize()\n",
        "except ee.EEException as error:\n",
        "  print(f'ERROR: {error}')"
      ],
      "metadata": {
        "colab": {
          "base_uri": "https://localhost:8080/",
          "height": 211
        },
        "id": "45DcFduD0xmE",
        "outputId": "facf8bd0-bd67-4b58-f80c-6b946d625b8e"
      },
      "execution_count": null,
      "outputs": [
        {
          "output_type": "error",
          "ename": "NameError",
          "evalue": "name 'ee' is not defined",
          "traceback": [
            "\u001b[0;31m---------------------------------------------------------------------------\u001b[0m",
            "\u001b[0;31mNameError\u001b[0m                                 Traceback (most recent call last)",
            "\u001b[0;32m<ipython-input-1-b067ed149458>\u001b[0m in \u001b[0;36m<cell line: 2>\u001b[0;34m()\u001b[0m\n\u001b[1;32m      1\u001b[0m \u001b[0;31m#Authenticate the GEE User\u001b[0m\u001b[0;34m\u001b[0m\u001b[0;34m\u001b[0m\u001b[0m\n\u001b[0;32m----> 2\u001b[0;31m \u001b[0mee\u001b[0m\u001b[0;34m.\u001b[0m\u001b[0mAuthenticate\u001b[0m\u001b[0;34m(\u001b[0m\u001b[0;34m)\u001b[0m\u001b[0;34m\u001b[0m\u001b[0;34m\u001b[0m\u001b[0m\n\u001b[0m\u001b[1;32m      3\u001b[0m \u001b[0;31m# Verify if GEE server was authenticated\u001b[0m\u001b[0;34m\u001b[0m\u001b[0;34m\u001b[0m\u001b[0m\n\u001b[1;32m      4\u001b[0m \u001b[0;32mtry\u001b[0m\u001b[0;34m:\u001b[0m\u001b[0;34m\u001b[0m\u001b[0;34m\u001b[0m\u001b[0m\n\u001b[1;32m      5\u001b[0m   \u001b[0mee\u001b[0m\u001b[0;34m.\u001b[0m\u001b[0mInitialize\u001b[0m\u001b[0;34m(\u001b[0m\u001b[0;34m)\u001b[0m\u001b[0;34m\u001b[0m\u001b[0;34m\u001b[0m\u001b[0m\n",
            "\u001b[0;31mNameError\u001b[0m: name 'ee' is not defined"
          ]
        }
      ]
    },
    {
      "cell_type": "markdown",
      "source": [
        "# 2) Supply Satellite, Date Range, Field Name"
      ],
      "metadata": {
        "id": "I6CsnX4u1jQe"
      }
    },
    {
      "cell_type": "code",
      "metadata": {
        "id": "MkxFZgnzv192"
      },
      "source": [
        "satellite = \"COPERNICUS/S2_SR_HARMONIZED\" # @param [\"LANDSAT/LT04/C01/T1_SR\", \"LANDSAT/LT05/C01/T1_SR\", \"LANDSAT/LE07/C01/T1_SR\", \"LANDSAT/LC08/C01/T1_SR\", \"COPERNICUS/S2_SR_HARMONIZED\"]\n",
        "first_date = '2023-06-09'  #@param {type: \"date\"}\n",
        "last_date  = '2023-10-03'  #@param {type: \"date\"}\n",
        "field_name = \"L1\" #@param {type:\"string\"}\n",
        "\n",
        "\n",
        "if satellite == \"COPERNICUS/S2_SR_HARMONIZED\":\n",
        "      sat = 'S2SR'\n",
        "if satellite == \"LANDSAT/LT04/C01/T1_SR\":\n",
        "      sat = 'LT04'\n",
        "if satellite == \"LANDSAT/LT05/C01/T1_SR\":\n",
        "      sat = 'LT05'\n",
        "if satellite == \"LANDSAT/LE07/C01/T1_SR\":\n",
        "      sat = 'LE07'\n",
        "if satellite == \"LANDSAT/LC08/C01/T1_SR\":\n",
        "      sat = 'LC08'"
      ],
      "execution_count": null,
      "outputs": []
    },
    {
      "cell_type": "markdown",
      "source": [
        "# 3) Choose Field Boundaries file you want processed.\n",
        "\n",
        "\n",
        "*   File extension must be **.shp**\n"
      ],
      "metadata": {
        "id": "fWN5RVTw3HFP"
      }
    },
    {
      "cell_type": "code",
      "source": [
        "from google.colab import files\n",
        "shp_file = files.upload()"
      ],
      "metadata": {
        "colab": {
          "base_uri": "https://localhost:8080/",
          "height": 38
        },
        "id": "obZUeWLI5JBx",
        "outputId": "f7bbad2b-8825-46d0-97a7-05623824775c"
      },
      "execution_count": null,
      "outputs": [
        {
          "output_type": "display_data",
          "data": {
            "text/plain": [
              "<IPython.core.display.HTML object>"
            ],
            "text/html": [
              "\n",
              "     <input type=\"file\" id=\"files-d68e385d-a7ab-43c6-a280-5ae5e817958f\" name=\"files[]\" multiple disabled\n",
              "        style=\"border:none\" />\n",
              "     <output id=\"result-d68e385d-a7ab-43c6-a280-5ae5e817958f\">\n",
              "      Upload widget is only available when the cell has been executed in the\n",
              "      current browser session. Please rerun this cell to enable.\n",
              "      </output>\n",
              "      <script>// Copyright 2017 Google LLC\n",
              "//\n",
              "// Licensed under the Apache License, Version 2.0 (the \"License\");\n",
              "// you may not use this file except in compliance with the License.\n",
              "// You may obtain a copy of the License at\n",
              "//\n",
              "//      http://www.apache.org/licenses/LICENSE-2.0\n",
              "//\n",
              "// Unless required by applicable law or agreed to in writing, software\n",
              "// distributed under the License is distributed on an \"AS IS\" BASIS,\n",
              "// WITHOUT WARRANTIES OR CONDITIONS OF ANY KIND, either express or implied.\n",
              "// See the License for the specific language governing permissions and\n",
              "// limitations under the License.\n",
              "\n",
              "/**\n",
              " * @fileoverview Helpers for google.colab Python module.\n",
              " */\n",
              "(function(scope) {\n",
              "function span(text, styleAttributes = {}) {\n",
              "  const element = document.createElement('span');\n",
              "  element.textContent = text;\n",
              "  for (const key of Object.keys(styleAttributes)) {\n",
              "    element.style[key] = styleAttributes[key];\n",
              "  }\n",
              "  return element;\n",
              "}\n",
              "\n",
              "// Max number of bytes which will be uploaded at a time.\n",
              "const MAX_PAYLOAD_SIZE = 100 * 1024;\n",
              "\n",
              "function _uploadFiles(inputId, outputId) {\n",
              "  const steps = uploadFilesStep(inputId, outputId);\n",
              "  const outputElement = document.getElementById(outputId);\n",
              "  // Cache steps on the outputElement to make it available for the next call\n",
              "  // to uploadFilesContinue from Python.\n",
              "  outputElement.steps = steps;\n",
              "\n",
              "  return _uploadFilesContinue(outputId);\n",
              "}\n",
              "\n",
              "// This is roughly an async generator (not supported in the browser yet),\n",
              "// where there are multiple asynchronous steps and the Python side is going\n",
              "// to poll for completion of each step.\n",
              "// This uses a Promise to block the python side on completion of each step,\n",
              "// then passes the result of the previous step as the input to the next step.\n",
              "function _uploadFilesContinue(outputId) {\n",
              "  const outputElement = document.getElementById(outputId);\n",
              "  const steps = outputElement.steps;\n",
              "\n",
              "  const next = steps.next(outputElement.lastPromiseValue);\n",
              "  return Promise.resolve(next.value.promise).then((value) => {\n",
              "    // Cache the last promise value to make it available to the next\n",
              "    // step of the generator.\n",
              "    outputElement.lastPromiseValue = value;\n",
              "    return next.value.response;\n",
              "  });\n",
              "}\n",
              "\n",
              "/**\n",
              " * Generator function which is called between each async step of the upload\n",
              " * process.\n",
              " * @param {string} inputId Element ID of the input file picker element.\n",
              " * @param {string} outputId Element ID of the output display.\n",
              " * @return {!Iterable<!Object>} Iterable of next steps.\n",
              " */\n",
              "function* uploadFilesStep(inputId, outputId) {\n",
              "  const inputElement = document.getElementById(inputId);\n",
              "  inputElement.disabled = false;\n",
              "\n",
              "  const outputElement = document.getElementById(outputId);\n",
              "  outputElement.innerHTML = '';\n",
              "\n",
              "  const pickedPromise = new Promise((resolve) => {\n",
              "    inputElement.addEventListener('change', (e) => {\n",
              "      resolve(e.target.files);\n",
              "    });\n",
              "  });\n",
              "\n",
              "  const cancel = document.createElement('button');\n",
              "  inputElement.parentElement.appendChild(cancel);\n",
              "  cancel.textContent = 'Cancel upload';\n",
              "  const cancelPromise = new Promise((resolve) => {\n",
              "    cancel.onclick = () => {\n",
              "      resolve(null);\n",
              "    };\n",
              "  });\n",
              "\n",
              "  // Wait for the user to pick the files.\n",
              "  const files = yield {\n",
              "    promise: Promise.race([pickedPromise, cancelPromise]),\n",
              "    response: {\n",
              "      action: 'starting',\n",
              "    }\n",
              "  };\n",
              "\n",
              "  cancel.remove();\n",
              "\n",
              "  // Disable the input element since further picks are not allowed.\n",
              "  inputElement.disabled = true;\n",
              "\n",
              "  if (!files) {\n",
              "    return {\n",
              "      response: {\n",
              "        action: 'complete',\n",
              "      }\n",
              "    };\n",
              "  }\n",
              "\n",
              "  for (const file of files) {\n",
              "    const li = document.createElement('li');\n",
              "    li.append(span(file.name, {fontWeight: 'bold'}));\n",
              "    li.append(span(\n",
              "        `(${file.type || 'n/a'}) - ${file.size} bytes, ` +\n",
              "        `last modified: ${\n",
              "            file.lastModifiedDate ? file.lastModifiedDate.toLocaleDateString() :\n",
              "                                    'n/a'} - `));\n",
              "    const percent = span('0% done');\n",
              "    li.appendChild(percent);\n",
              "\n",
              "    outputElement.appendChild(li);\n",
              "\n",
              "    const fileDataPromise = new Promise((resolve) => {\n",
              "      const reader = new FileReader();\n",
              "      reader.onload = (e) => {\n",
              "        resolve(e.target.result);\n",
              "      };\n",
              "      reader.readAsArrayBuffer(file);\n",
              "    });\n",
              "    // Wait for the data to be ready.\n",
              "    let fileData = yield {\n",
              "      promise: fileDataPromise,\n",
              "      response: {\n",
              "        action: 'continue',\n",
              "      }\n",
              "    };\n",
              "\n",
              "    // Use a chunked sending to avoid message size limits. See b/62115660.\n",
              "    let position = 0;\n",
              "    do {\n",
              "      const length = Math.min(fileData.byteLength - position, MAX_PAYLOAD_SIZE);\n",
              "      const chunk = new Uint8Array(fileData, position, length);\n",
              "      position += length;\n",
              "\n",
              "      const base64 = btoa(String.fromCharCode.apply(null, chunk));\n",
              "      yield {\n",
              "        response: {\n",
              "          action: 'append',\n",
              "          file: file.name,\n",
              "          data: base64,\n",
              "        },\n",
              "      };\n",
              "\n",
              "      let percentDone = fileData.byteLength === 0 ?\n",
              "          100 :\n",
              "          Math.round((position / fileData.byteLength) * 100);\n",
              "      percent.textContent = `${percentDone}% done`;\n",
              "\n",
              "    } while (position < fileData.byteLength);\n",
              "  }\n",
              "\n",
              "  // All done.\n",
              "  yield {\n",
              "    response: {\n",
              "      action: 'complete',\n",
              "    }\n",
              "  };\n",
              "}\n",
              "\n",
              "scope.google = scope.google || {};\n",
              "scope.google.colab = scope.google.colab || {};\n",
              "scope.google.colab._files = {\n",
              "  _uploadFiles,\n",
              "  _uploadFilesContinue,\n",
              "};\n",
              "})(self);\n",
              "</script> "
            ]
          },
          "metadata": {}
        }
      ]
    },
    {
      "cell_type": "markdown",
      "source": [
        "# 4) Time to process and export images"
      ],
      "metadata": {
        "id": "VDh_Vzzv_ysA"
      }
    },
    {
      "cell_type": "code",
      "source": [
        "#With Clouds\n",
        "def get_s2_sr_cld_col(aoi, start_date, end_date):\n",
        "    # Import satellite info\n",
        "    s2_sr_col = (ee.ImageCollection(satellite)\n",
        "        .filterBounds(aoi)\n",
        "        .filterDate(start_date, end_date))\n",
        "\n",
        "    return s2_sr_col"
      ],
      "metadata": {
        "id": "UrrBJheeM1lD"
      },
      "execution_count": null,
      "outputs": []
    },
    {
      "cell_type": "code",
      "source": [
        "#Pulls geometry from the polygon\n",
        "def get_bbox_coords(pol):\n",
        "    shp_bb = shp_file[:-5] + '_bb.geojson'\n",
        "    #Convert polygon CRS to WGS84 DD\n",
        "    pol = pol.to_crs({'init': 'epsg:4326'})\n",
        "    #Create a buffer for the boundary and save as geoJSON\n",
        "    pol.envelope.to_file(filename=shp_bb, driver=\"GeoJSON\")\n",
        "    #Open GeoJSON\n",
        "    geom = json.loads(pol.envelope.to_json())['features'][0]['geometry']\n",
        "\n",
        "    return(geom)"
      ],
      "metadata": {
        "id": "m-9qxPfGMyaq"
      },
      "execution_count": null,
      "outputs": []
    },
    {
      "cell_type": "code",
      "source": [
        "pol = gpd.read_file(shp_file)\n",
        "\n",
        "pol = pol.dissolve()\n",
        "\n",
        "pol = pol.buffer(0.005)\n",
        "\n",
        "geom = get_bbox_coords(pol)\n",
        "\n",
        "#Get coordinates from GeoJSON\n",
        "coords = geom['coordinates']\n",
        "regions = ee.Geometry.Polygon(coords)\n",
        "\n",
        "start_date = ee.Date(first_date)\n",
        "end_date = ee.Date(last_date)\n",
        "\n",
        "scale = 10\n",
        "extra = dict(sat=sat)\n",
        "s2_sr_cld_col = get_s2_sr_cld_col(regions, start_date, end_date)\n",
        "imagery = s2_sr_cld_col\n",
        "field_name_sat = f'{field_name}'+\"{id}\"\n",
        "\n",
        "print(imagery.size().getInfo())\n",
        "batch.Export.imagecollection.toDrive(imagery, folder=f'YieldCurve_{sat}_{field_name}',\n",
        "                                     region=regions, scale=scale, verbose = True,\n",
        "                                     namePattern = field_name_sat)\n",
        "time.sleep(300)\n",
        "print(\"Export tasks were a success!\")"
      ],
      "metadata": {
        "id": "wRPmT76MAGaO"
      },
      "execution_count": null,
      "outputs": []
    }
  ]
}