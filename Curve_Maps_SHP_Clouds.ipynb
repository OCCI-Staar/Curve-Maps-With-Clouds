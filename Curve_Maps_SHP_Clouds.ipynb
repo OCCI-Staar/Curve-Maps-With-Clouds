{
  "nbformat": 4,
  "nbformat_minor": 0,
  "metadata": {
    "colab": {
      "provenance": [],
      "collapsed_sections": [
        "X4yH3w7qLr20",
        "fWN5RVTw3HFP"
      ],
      "toc_visible": true,
      "authorship_tag": "ABX9TyMDGeFGZtOa45u2c0ntK0Zk",
      "include_colab_link": true
    },
    "kernelspec": {
      "name": "python3",
      "display_name": "Python 3"
    },
    "language_info": {
      "name": "python"
    }
  },
  "cells": [
    {
      "cell_type": "markdown",
      "metadata": {
        "id": "view-in-github",
        "colab_type": "text"
      },
      "source": [
        "<a href=\"https://colab.research.google.com/github/OCCI-Staar/Curve-Maps-With-Clouds/blob/main/Curve_Maps_SHP_Clouds.ipynb\" target=\"_parent\"><img src=\"https://colab.research.google.com/assets/colab-badge.svg\" alt=\"Open In Colab\"/></a>"
      ]
    },
    {
      "cell_type": "markdown",
      "source": [
        "# Note this will **NOT** filter out clouds\n",
        "## Create a standard environment\n",
        "\n",
        "*   Simply Click play button to run all scripts\n",
        "\n",
        "*   If no errors, continue to 1)"
      ],
      "metadata": {
        "id": "p9xQQaAhAWNP"
      }
    },
    {
      "cell_type": "code",
      "execution_count": 1,
      "metadata": {
        "id": "mL7E8JAnUPDF",
        "colab": {
          "base_uri": "https://localhost:8080/"
        },
        "outputId": "47eced52-a6c5-45fe-bd7c-882ef447e7e3"
      },
      "outputs": [
        {
          "output_type": "stream",
          "name": "stdout",
          "text": [
            "--2024-06-20 19:26:34--  https://raw.githubusercontent.com/OCCI-Staar/Curve-Maps-Filter-Out-Clouds/main/required-info.txt\n",
            "Resolving raw.githubusercontent.com (raw.githubusercontent.com)... 185.199.109.133, 185.199.111.133, 185.199.110.133, ...\n",
            "Connecting to raw.githubusercontent.com (raw.githubusercontent.com)|185.199.109.133|:443... connected.\n",
            "HTTP request sent, awaiting response... 200 OK\n",
            "Length: 143 [text/plain]\n",
            "Saving to: ‘required-info.txt’\n",
            "\n",
            "\rrequired-info.txt     0%[                    ]       0  --.-KB/s               \rrequired-info.txt   100%[===================>]     143  --.-KB/s    in 0s      \n",
            "\n",
            "2024-06-20 19:26:35 (1.29 MB/s) - ‘required-info.txt’ saved [143/143]\n",
            "\n"
          ]
        }
      ],
      "source": [
        "#Just need the required versions from GitHub\n",
        "!wget -O required-info.txt https://raw.githubusercontent.com/OCCI-Staar/Curve-Maps-Filter-Out-Clouds/main/required-info.txt"
      ]
    },
    {
      "cell_type": "code",
      "source": [
        "# View the content of required-info.txt\n",
        "!cat required-info.txt\n",
        "\n",
        "# Install packages listed in required-info.txt\n",
        "!pip install -r required-info.txt"
      ],
      "metadata": {
        "id": "o71duZrfZM3y"
      },
      "execution_count": null,
      "outputs": []
    },
    {
      "cell_type": "code",
      "source": [
        "#Needed Libraries\n",
        "import ee\n",
        "import time\n",
        "import os\n",
        "import json\n",
        "import numpy as np\n",
        "import pandas as pd\n",
        "import geopandas as gpd\n",
        "from osgeo import gdal\n",
        "from datetime import datetime\n",
        "from geetools import batch\n",
        "import ipywidgets as widgets\n",
        "\n",
        "from IPython.display import display\n",
        "%matplotlib inline\n",
        "import matplotlib.pyplot as plt"
      ],
      "metadata": {
        "colab": {
          "base_uri": "https://localhost:8080/",
          "height": 383
        },
        "id": "YT2MBYfVnY_9",
        "outputId": "f43357ff-9aa4-47f9-ffd8-77ff70743649"
      },
      "execution_count": null,
      "outputs": [
        {
          "output_type": "error",
          "ename": "ModuleNotFoundError",
          "evalue": "No module named 'geetools'",
          "traceback": [
            "\u001b[0;31m---------------------------------------------------------------------------\u001b[0m",
            "\u001b[0;31mModuleNotFoundError\u001b[0m                       Traceback (most recent call last)",
            "\u001b[0;32m<ipython-input-1-1825b6e7924c>\u001b[0m in \u001b[0;36m<cell line: 11>\u001b[0;34m()\u001b[0m\n\u001b[1;32m      9\u001b[0m \u001b[0;32mfrom\u001b[0m \u001b[0mosgeo\u001b[0m \u001b[0;32mimport\u001b[0m \u001b[0mgdal\u001b[0m\u001b[0;34m\u001b[0m\u001b[0;34m\u001b[0m\u001b[0m\n\u001b[1;32m     10\u001b[0m \u001b[0;32mfrom\u001b[0m \u001b[0mdatetime\u001b[0m \u001b[0;32mimport\u001b[0m \u001b[0mdatetime\u001b[0m\u001b[0;34m\u001b[0m\u001b[0;34m\u001b[0m\u001b[0m\n\u001b[0;32m---> 11\u001b[0;31m \u001b[0;32mfrom\u001b[0m \u001b[0mgeetools\u001b[0m \u001b[0;32mimport\u001b[0m \u001b[0mbatch\u001b[0m\u001b[0;34m\u001b[0m\u001b[0;34m\u001b[0m\u001b[0m\n\u001b[0m\u001b[1;32m     12\u001b[0m \u001b[0;32mimport\u001b[0m \u001b[0mipywidgets\u001b[0m \u001b[0;32mas\u001b[0m \u001b[0mwidgets\u001b[0m\u001b[0;34m\u001b[0m\u001b[0;34m\u001b[0m\u001b[0m\n\u001b[1;32m     13\u001b[0m \u001b[0;34m\u001b[0m\u001b[0m\n",
            "\u001b[0;31mModuleNotFoundError\u001b[0m: No module named 'geetools'",
            "",
            "\u001b[0;31m---------------------------------------------------------------------------\u001b[0;32m\nNOTE: If your import is failing due to a missing package, you can\nmanually install dependencies using either !pip or !apt.\n\nTo view examples of installing some common dependencies, click the\n\"Open Examples\" button below.\n\u001b[0;31m---------------------------------------------------------------------------\u001b[0m\n"
          ],
          "errorDetails": {
            "actions": [
              {
                "action": "open_url",
                "actionText": "Open Examples",
                "url": "/notebooks/snippets/importing_libraries.ipynb"
              }
            ]
          }
        }
      ]
    },
    {
      "cell_type": "code",
      "source": [
        "#Build Docker\n",
        "!docker build -t maps-docker-image .\n"
      ],
      "metadata": {
        "id": "MuiqDn-ZZM5B"
      },
      "execution_count": null,
      "outputs": []
    },
    {
      "cell_type": "markdown",
      "source": [
        "# 1) Authenticate yourself through Google Earth Engine"
      ],
      "metadata": {
        "id": "X4yH3w7qLr20"
      }
    },
    {
      "cell_type": "code",
      "source": [
        "#Authenticate the GEE User\n",
        "ee.Authenticate()\n",
        "# Verify if GEE server was authenticated\n",
        "try:\n",
        "  ee.Initialize()\n",
        "except ee.EEException as error:\n",
        "  print(f'ERROR: {error}')"
      ],
      "metadata": {
        "colab": {
          "base_uri": "https://localhost:8080/",
          "height": 211
        },
        "id": "45DcFduD0xmE",
        "outputId": "facf8bd0-bd67-4b58-f80c-6b946d625b8e"
      },
      "execution_count": null,
      "outputs": [
        {
          "output_type": "error",
          "ename": "NameError",
          "evalue": "name 'ee' is not defined",
          "traceback": [
            "\u001b[0;31m---------------------------------------------------------------------------\u001b[0m",
            "\u001b[0;31mNameError\u001b[0m                                 Traceback (most recent call last)",
            "\u001b[0;32m<ipython-input-1-b067ed149458>\u001b[0m in \u001b[0;36m<cell line: 2>\u001b[0;34m()\u001b[0m\n\u001b[1;32m      1\u001b[0m \u001b[0;31m#Authenticate the GEE User\u001b[0m\u001b[0;34m\u001b[0m\u001b[0;34m\u001b[0m\u001b[0m\n\u001b[0;32m----> 2\u001b[0;31m \u001b[0mee\u001b[0m\u001b[0;34m.\u001b[0m\u001b[0mAuthenticate\u001b[0m\u001b[0;34m(\u001b[0m\u001b[0;34m)\u001b[0m\u001b[0;34m\u001b[0m\u001b[0;34m\u001b[0m\u001b[0m\n\u001b[0m\u001b[1;32m      3\u001b[0m \u001b[0;31m# Verify if GEE server was authenticated\u001b[0m\u001b[0;34m\u001b[0m\u001b[0;34m\u001b[0m\u001b[0m\n\u001b[1;32m      4\u001b[0m \u001b[0;32mtry\u001b[0m\u001b[0;34m:\u001b[0m\u001b[0;34m\u001b[0m\u001b[0;34m\u001b[0m\u001b[0m\n\u001b[1;32m      5\u001b[0m   \u001b[0mee\u001b[0m\u001b[0;34m.\u001b[0m\u001b[0mInitialize\u001b[0m\u001b[0;34m(\u001b[0m\u001b[0;34m)\u001b[0m\u001b[0;34m\u001b[0m\u001b[0;34m\u001b[0m\u001b[0m\n",
            "\u001b[0;31mNameError\u001b[0m: name 'ee' is not defined"
          ]
        }
      ]
    },
    {
      "cell_type": "markdown",
      "source": [
        "# 2) Supply Satellite, Date Range, Field Name"
      ],
      "metadata": {
        "id": "I6CsnX4u1jQe"
      }
    },
    {
      "cell_type": "code",
      "metadata": {
        "id": "MkxFZgnzv192"
      },
      "source": [
        "satellite = \"COPERNICUS/S2_SR_HARMONIZED\" # @param [\"LANDSAT/LT04/C01/T1_SR\", \"LANDSAT/LT05/C01/T1_SR\", \"LANDSAT/LE07/C01/T1_SR\", \"LANDSAT/LC08/C01/T1_SR\", \"COPERNICUS/S2_SR_HARMONIZED\"]\n",
        "first_date = '2023-06-09'  #@param {type: \"date\"}\n",
        "last_date  = '2023-10-03'  #@param {type: \"date\"}\n",
        "field_name = \"L1\" #@param {type:\"string\"}\n",
        "\n",
        "\n",
        "if satellite == \"COPERNICUS/S2_SR_HARMONIZED\":\n",
        "      sat = 'S2SR'\n",
        "if satellite == \"LANDSAT/LT04/C01/T1_SR\":\n",
        "      sat = 'LT04'\n",
        "if satellite == \"LANDSAT/LT05/C01/T1_SR\":\n",
        "      sat = 'LT05'\n",
        "if satellite == \"LANDSAT/LE07/C01/T1_SR\":\n",
        "      sat = 'LE07'\n",
        "if satellite == \"LANDSAT/LC08/C01/T1_SR\":\n",
        "      sat = 'LC08'"
      ],
      "execution_count": null,
      "outputs": []
    },
    {
      "cell_type": "markdown",
      "source": [
        "# 3) Choose Field Boundaries file you want processed.\n",
        "\n",
        "\n",
        "*   File extension must be **.shp**\n"
      ],
      "metadata": {
        "id": "fWN5RVTw3HFP"
      }
    },
    {
      "cell_type": "code",
      "source": [
        "from google.colab import files\n",
        "shp_file = files.upload()"
      ],
      "metadata": {
        "colab": {
          "base_uri": "https://localhost:8080/",
          "height": 38
        },
        "id": "obZUeWLI5JBx",
        "outputId": "f7bbad2b-8825-46d0-97a7-05623824775c"
      },
      "execution_count": null,
      "outputs": [
        {
          "output_type": "display_data",
          "data": {
            "text/plain": [
              "<IPython.core.display.HTML object>"
            ],
            "text/html": [
              "\n",
              "     <input type=\"file\" id=\"files-d68e385d-a7ab-43c6-a280-5ae5e817958f\" name=\"files[]\" multiple disabled\n",
              "        style=\"border:none\" />\n",
              "     <output id=\"result-d68e385d-a7ab-43c6-a280-5ae5e817958f\">\n",
              "      Upload widget is only available when the cell has been executed in the\n",
              "      current browser session. Please rerun this cell to enable.\n",
              "      </output>\n",
              "      <script>// Copyright 2017 Google LLC\n",
              "//\n",
              "// Licensed under the Apache License, Version 2.0 (the \"License\");\n",
              "// you may not use this file except in compliance with the License.\n",
              "// You may obtain a copy of the License at\n",
              "//\n",
              "//      http://www.apache.org/licenses/LICENSE-2.0\n",
              "//\n",
              "// Unless required by applicable law or agreed to in writing, software\n",
              "// distributed under the License is distributed on an \"AS IS\" BASIS,\n",
              "// WITHOUT WARRANTIES OR CONDITIONS OF ANY KIND, either express or implied.\n",
              "// See the License for the specific language governing permissions and\n",
              "// limitations under the License.\n",
              "\n",
              "/**\n",
              " * @fileoverview Helpers for google.colab Python module.\n",
              " */\n",
              "(function(scope) {\n",
              "function span(text, styleAttributes = {}) {\n",
              "  const element = document.createElement('span');\n",
              "  element.textContent = text;\n",
              "  for (const key of Object.keys(styleAttributes)) {\n",
              "    element.style[key] = styleAttributes[key];\n",
              "  }\n",
              "  return element;\n",
              "}\n",
              "\n",
              "// Max number of bytes which will be uploaded at a time.\n",
              "const MAX_PAYLOAD_SIZE = 100 * 1024;\n",
              "\n",
              "function _uploadFiles(inputId, outputId) {\n",
              "  const steps = uploadFilesStep(inputId, outputId);\n",
              "  const outputElement = document.getElementById(outputId);\n",
              "  // Cache steps on the outputElement to make it available for the next call\n",
              "  // to uploadFilesContinue from Python.\n",
              "  outputElement.steps = steps;\n",
              "\n",
              "  return _uploadFilesContinue(outputId);\n",
              "}\n",
              "\n",
              "// This is roughly an async generator (not supported in the browser yet),\n",
              "// where there are multiple asynchronous steps and the Python side is going\n",
              "// to poll for completion of each step.\n",
              "// This uses a Promise to block the python side on completion of each step,\n",
              "// then passes the result of the previous step as the input to the next step.\n",
              "function _uploadFilesContinue(outputId) {\n",
              "  const outputElement = document.getElementById(outputId);\n",
              "  const steps = outputElement.steps;\n",
              "\n",
              "  const next = steps.next(outputElement.lastPromiseValue);\n",
              "  return Promise.resolve(next.value.promise).then((value) => {\n",
              "    // Cache the last promise value to make it available to the next\n",
              "    // step of the generator.\n",
              "    outputElement.lastPromiseValue = value;\n",
              "    return next.value.response;\n",
              "  });\n",
              "}\n",
              "\n",
              "/**\n",
              " * Generator function which is called between each async step of the upload\n",
              " * process.\n",
              " * @param {string} inputId Element ID of the input file picker element.\n",
              " * @param {string} outputId Element ID of the output display.\n",
              " * @return {!Iterable<!Object>} Iterable of next steps.\n",
              " */\n",
              "function* uploadFilesStep(inputId, outputId) {\n",
              "  const inputElement = document.getElementById(inputId);\n",
              "  inputElement.disabled = false;\n",
              "\n",
              "  const outputElement = document.getElementById(outputId);\n",
              "  outputElement.innerHTML = '';\n",
              "\n",
              "  const pickedPromise = new Promise((resolve) => {\n",
              "    inputElement.addEventListener('change', (e) => {\n",
              "      resolve(e.target.files);\n",
              "    });\n",
              "  });\n",
              "\n",
              "  const cancel = document.createElement('button');\n",
              "  inputElement.parentElement.appendChild(cancel);\n",
              "  cancel.textContent = 'Cancel upload';\n",
              "  const cancelPromise = new Promise((resolve) => {\n",
              "    cancel.onclick = () => {\n",
              "      resolve(null);\n",
              "    };\n",
              "  });\n",
              "\n",
              "  // Wait for the user to pick the files.\n",
              "  const files = yield {\n",
              "    promise: Promise.race([pickedPromise, cancelPromise]),\n",
              "    response: {\n",
              "      action: 'starting',\n",
              "    }\n",
              "  };\n",
              "\n",
              "  cancel.remove();\n",
              "\n",
              "  // Disable the input element since further picks are not allowed.\n",
              "  inputElement.disabled = true;\n",
              "\n",
              "  if (!files) {\n",
              "    return {\n",
              "      response: {\n",
              "        action: 'complete',\n",
              "      }\n",
              "    };\n",
              "  }\n",
              "\n",
              "  for (const file of files) {\n",
              "    const li = document.createElement('li');\n",
              "    li.append(span(file.name, {fontWeight: 'bold'}));\n",
              "    li.append(span(\n",
              "        `(${file.type || 'n/a'}) - ${file.size} bytes, ` +\n",
              "        `last modified: ${\n",
              "            file.lastModifiedDate ? file.lastModifiedDate.toLocaleDateString() :\n",
              "                                    'n/a'} - `));\n",
              "    const percent = span('0% done');\n",
              "    li.appendChild(percent);\n",
              "\n",
              "    outputElement.appendChild(li);\n",
              "\n",
              "    const fileDataPromise = new Promise((resolve) => {\n",
              "      const reader = new FileReader();\n",
              "      reader.onload = (e) => {\n",
              "        resolve(e.target.result);\n",
              "      };\n",
              "      reader.readAsArrayBuffer(file);\n",
              "    });\n",
              "    // Wait for the data to be ready.\n",
              "    let fileData = yield {\n",
              "      promise: fileDataPromise,\n",
              "      response: {\n",
              "        action: 'continue',\n",
              "      }\n",
              "    };\n",
              "\n",
              "    // Use a chunked sending to avoid message size limits. See b/62115660.\n",
              "    let position = 0;\n",
              "    do {\n",
              "      const length = Math.min(fileData.byteLength - position, MAX_PAYLOAD_SIZE);\n",
              "      const chunk = new Uint8Array(fileData, position, length);\n",
              "      position += length;\n",
              "\n",
              "      const base64 = btoa(String.fromCharCode.apply(null, chunk));\n",
              "      yield {\n",
              "        response: {\n",
              "          action: 'append',\n",
              "          file: file.name,\n",
              "          data: base64,\n",
              "        },\n",
              "      };\n",
              "\n",
              "      let percentDone = fileData.byteLength === 0 ?\n",
              "          100 :\n",
              "          Math.round((position / fileData.byteLength) * 100);\n",
              "      percent.textContent = `${percentDone}% done`;\n",
              "\n",
              "    } while (position < fileData.byteLength);\n",
              "  }\n",
              "\n",
              "  // All done.\n",
              "  yield {\n",
              "    response: {\n",
              "      action: 'complete',\n",
              "    }\n",
              "  };\n",
              "}\n",
              "\n",
              "scope.google = scope.google || {};\n",
              "scope.google.colab = scope.google.colab || {};\n",
              "scope.google.colab._files = {\n",
              "  _uploadFiles,\n",
              "  _uploadFilesContinue,\n",
              "};\n",
              "})(self);\n",
              "</script> "
            ]
          },
          "metadata": {}
        }
      ]
    },
    {
      "cell_type": "markdown",
      "source": [
        "# 4) Time to process and export images"
      ],
      "metadata": {
        "id": "VDh_Vzzv_ysA"
      }
    },
    {
      "cell_type": "code",
      "source": [
        "#With Clouds\n",
        "def get_s2_sr_cld_col(aoi, start_date, end_date):\n",
        "    # Import satellite info\n",
        "    s2_sr_col = (ee.ImageCollection(satellite)\n",
        "        .filterBounds(aoi)\n",
        "        .filterDate(start_date, end_date))\n",
        "\n",
        "    return s2_sr_col"
      ],
      "metadata": {
        "id": "UrrBJheeM1lD"
      },
      "execution_count": null,
      "outputs": []
    },
    {
      "cell_type": "code",
      "source": [
        "#Pulls geometry from the polygon\n",
        "def get_bbox_coords(pol):\n",
        "    shp_bb = shp_file[:-5] + '_bb.geojson'\n",
        "    #Convert polygon CRS to WGS84 DD\n",
        "    pol = pol.to_crs({'init': 'epsg:4326'})\n",
        "    #Create a buffer for the boundary and save as geoJSON\n",
        "    pol.envelope.to_file(filename=shp_bb, driver=\"GeoJSON\")\n",
        "    #Open GeoJSON\n",
        "    geom = json.loads(pol.envelope.to_json())['features'][0]['geometry']\n",
        "\n",
        "    return(geom)"
      ],
      "metadata": {
        "id": "m-9qxPfGMyaq"
      },
      "execution_count": null,
      "outputs": []
    },
    {
      "cell_type": "code",
      "source": [
        "pol = gpd.read_file(shp_file)\n",
        "\n",
        "pol = pol.dissolve()\n",
        "\n",
        "pol = pol.buffer(0.005)\n",
        "\n",
        "geom = get_bbox_coords(pol)\n",
        "\n",
        "#Get coordinates from GeoJSON\n",
        "coords = geom['coordinates']\n",
        "regions = ee.Geometry.Polygon(coords)\n",
        "\n",
        "start_date = ee.Date(first_date)\n",
        "end_date = ee.Date(last_date)\n",
        "\n",
        "scale = 10\n",
        "extra = dict(sat=sat)\n",
        "s2_sr_cld_col = get_s2_sr_cld_col(regions, start_date, end_date)\n",
        "imagery = s2_sr_cld_col\n",
        "field_name_sat = f'{field_name}'+\"{id}\"\n",
        "\n",
        "print(imagery.size().getInfo())\n",
        "batch.Export.imagecollection.toDrive(imagery, folder=f'YieldCurve_{sat}_{field_name}',\n",
        "                                     region=regions, scale=scale, verbose = True,\n",
        "                                     namePattern = field_name_sat)\n",
        "time.sleep(300)\n",
        "print(\"Export tasks were a success!\")"
      ],
      "metadata": {
        "id": "wRPmT76MAGaO"
      },
      "execution_count": null,
      "outputs": []
    }
  ]
}